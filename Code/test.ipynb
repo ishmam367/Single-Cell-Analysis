{
 "cells": [
  {
   "cell_type": "code",
   "execution_count": 31,
   "metadata": {},
   "outputs": [],
   "source": [
    "import pandas as pd\n",
    "import numpy as np\n",
    "from sklearn.metrics import accuracy_score, f1_score, precision_score"
   ]
  },
  {
   "cell_type": "code",
   "execution_count": 32,
   "metadata": {},
   "outputs": [
    {
     "name": "stdout",
     "output_type": "stream",
     "text": [
      "highest Z_score before dropping null values  Cluster\n",
      "0        0.0\n",
      "1       15.0\n",
      "2      740.0\n",
      "3      755.0\n",
      "4      774.0\n",
      "5     1166.0\n",
      "6     1619.0\n",
      "7     1622.0\n",
      "8        NaN\n",
      "9     1856.0\n",
      "10      28.0\n",
      "11      69.0\n",
      "12      92.0\n",
      "13     143.0\n",
      "14     433.0\n",
      "15     691.0\n",
      "Name: Z-score, dtype: float64\n",
      "Index of highest z score before replacement: Index([0, 1, 2, 3, 4, 5, 6, 7, 8, 9, 10, 11, 12, 13, 14, 15], dtype='int64', name='Cluster')\n"
     ]
    }
   ],
   "source": [
    "highest_zscores = pd.read_pickle(\"highest_zscores.pkl\")\n",
    "df = pd.read_pickle(\"df.pkl\")\n",
    "print ('highest Z_score before dropping null values ', highest_zscores)\n",
    "print(\"Index of highest z score before replacement:\", highest_zscores.index)"
   ]
  },
  {
   "cell_type": "code",
   "execution_count": 33,
   "metadata": {},
   "outputs": [
    {
     "name": "stdout",
     "output_type": "stream",
     "text": [
      "Index of highest zscore after replacement: Index([0, 1, 2, 3, 4, 5, 6, 7, 8, 9, 10, 11, 12, 13, 14, 15], dtype='int64', name='Cluster')\n",
      "Index of highest zscore after replacement: Cluster\n",
      "0         0.0\n",
      "1        15.0\n",
      "2       740.0\n",
      "3       755.0\n",
      "4       774.0\n",
      "5      1166.0\n",
      "6      1619.0\n",
      "7      1622.0\n",
      "8     Unknown\n",
      "9      1856.0\n",
      "10       28.0\n",
      "11       69.0\n",
      "12       92.0\n",
      "13      143.0\n",
      "14      433.0\n",
      "15      691.0\n",
      "Name: Z-score, dtype: object\n"
     ]
    },
    {
     "name": "stderr",
     "output_type": "stream",
     "text": [
      "C:\\Users\\49152\\AppData\\Local\\Temp\\ipykernel_5440\\1589707366.py:1: FutureWarning: Setting an item of incompatible dtype is deprecated and will raise an error in a future version of pandas. Value 'Unknown' has dtype incompatible with float64, please explicitly cast to a compatible dtype first.\n",
      "  highest_zscores.fillna('Unknown', inplace=True)\n"
     ]
    }
   ],
   "source": [
    "highest_zscores.fillna('Unknown', inplace=True)\n",
    "print(\"Index of highest zscore after replacement:\", highest_zscores.index)\n",
    "print(\"Index of highest zscore after replacement:\", highest_zscores)\n",
    "\n",
    "#type(y_act), type(y_pred)"
   ]
  },
  {
   "cell_type": "code",
   "execution_count": 34,
   "metadata": {},
   "outputs": [
    {
     "name": "stdout",
     "output_type": "stream",
     "text": [
      "cell type with highest Z-Score  ['Effector memory T cell', 'Astrocyte', 'Regulatory T(Treg) cell', 'Activated effector cell', 'CD4+ T cell', 'Natural killer T (NKT) cell', 'Activated T cell', 'T follicular helper(Tfh) cell', 'T helper 2(Th2) cell', 'T cell', 'Regulatory CD4+ T cell', 'FGFR1HighNME5- epithelial cell', 'Capsular fibroblast(Fb2)', 'Regulatory T (Treg) cell', 'Fibroblast', 'Oligodendrocyte progenitor cell']\n"
     ]
    }
   ],
   "source": [
    "df.reset_index(inplace=True, drop=True)\n",
    "cell_types_with_highest_zscores = df.loc[highest_zscores.index, 'Cell Type'].tolist()\n",
    "print ('cell type with highest Z-Score ' , cell_types_with_highest_zscores)"
   ]
  },
  {
   "cell_type": "code",
   "execution_count": 37,
   "metadata": {},
   "outputs": [
    {
     "name": "stdout",
     "output_type": "stream",
     "text": [
      "Cluster_to_cell_type  {0: 'Effector memory T cell', 1: 'Astrocyte', 2: 'Regulatory T(Treg) cell', 3: 'Activated effector cell', 4: 'CD4+ T cell', 5: 'Natural killer T (NKT) cell', 6: 'Activated T cell', 7: 'T follicular helper(Tfh) cell', 8: 'T helper 2(Th2) cell', 9: 'T cell', 10: 'Regulatory CD4+ T cell', 11: 'FGFR1HighNME5- epithelial cell', 12: 'Capsular fibroblast(Fb2)', 13: 'Regulatory T (Treg) cell', 14: 'Fibroblast', 15: 'Oligodendrocyte progenitor cell'}\n"
     ]
    }
   ],
   "source": [
    "cluster_to_cell_type = {cluster_num: cell_type for cluster_num, cell_type in enumerate(cell_types_with_highest_zscores)}\n",
    "print('Cluster_to_cell_type ', cluster_to_cell_type)"
   ]
  },
  {
   "cell_type": "code",
   "execution_count": 35,
   "metadata": {},
   "outputs": [],
   "source": [
    "# acc = accuracy_score(y_true=y_act, y_pred=y_pred)\n",
    "# acc"
   ]
  },
  {
   "cell_type": "code",
   "execution_count": 36,
   "metadata": {},
   "outputs": [],
   "source": [
    "# if np.nan in y_act.unique():\n",
    "#     print(\"Nan found! 11\")\n",
    "\n",
    "\n",
    "# y_act = y_act.astype('str')\n",
    "# y_pred = y_pred.astype('str')\n",
    "\n",
    "# if 'nan' in y_act.unique():\n",
    "#     print(\"Nan found!\")\n",
    "#     y_act = y_act.replace('nan', 'Unknown')\n",
    "    \n",
    "# if 'nan' in y_pred.unique():\n",
    "#     print(\"Nan found!\")\n",
    "#     y_pred = y_pred.replace('nan', 'Unknown')\n",
    "\n",
    "# print(y_act[y_act.isnull()].index.tolist())\n",
    "# print(len(y_act.unique()), y_act.unique())\n",
    "# print(len(y_pred.unique()), y_pred.unique())\n",
    "# print(y_act.shape, y_pred.shape)"
   ]
  }
 ],
 "metadata": {
  "kernelspec": {
   "display_name": "projCV",
   "language": "python",
   "name": "python3"
  },
  "language_info": {
   "codemirror_mode": {
    "name": "ipython",
    "version": 3
   },
   "file_extension": ".py",
   "mimetype": "text/x-python",
   "name": "python",
   "nbconvert_exporter": "python",
   "pygments_lexer": "ipython3",
   "version": "3.10.14"
  }
 },
 "nbformat": 4,
 "nbformat_minor": 2
}
